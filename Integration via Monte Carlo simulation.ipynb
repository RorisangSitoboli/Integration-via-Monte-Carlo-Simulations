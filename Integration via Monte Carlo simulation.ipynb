{
 "cells": [
  {
   "cell_type": "code",
   "execution_count": 1,
   "id": "pregnant-staff",
   "metadata": {},
   "outputs": [],
   "source": [
    "import numpy as np\n",
    "import pandas as pd\n",
    "import matplotlib.pyplot as plt\n",
    "import seaborn as sns\n",
    "import random"
   ]
  },
  {
   "cell_type": "code",
   "execution_count": 2,
   "id": "documentary-polish",
   "metadata": {},
   "outputs": [],
   "source": [
    "'''Lambda functions can be created and used at the same time without resorting to the creation and definition of\n",
    "variables that contain them. The lambda syntax requires the lambda clause, followed by a list of arguments, a colon\n",
    "character, the expression to evaluate the arguments, and finally the input value.'''\n",
    "random.seed(2) # For reproducibility.\n",
    "f = lambda x: x**2 # Defiemne the anonymous lambda function.\n",
    "# Range of our values.\n",
    "a = 0.0\n",
    "b = 3.0\n",
    "NumSteps = 1000000\n",
    "# Vectors to store the generated numbers.\n",
    "XIntegral=[]\n",
    "YIntegral=[]\n",
    "XRectangle=[]\n",
    "YRectangle=[]"
   ]
  },
  {
   "cell_type": "markdown",
   "id": "given-auditor",
   "metadata": {},
   "source": [
    "- Whenever the generated y value is less than or equal to f(x), this value and the relative x value will be added at the end of the XIntegral , and YIntegral vectors.\n",
    "- Otherwise, they will be added at the end of the XRectangle, and YRectangle vectors.\n",
    "- It is necessary to evaluate the minimum and maximum of the function'\n",
    "- Recall that if the function has only one minimum/maximum, the work is simple. \n",
    "- If there are multiple minima/maxima, the procedure becomes more complex."
   ]
  },
  {
   "cell_type": "code",
   "execution_count": 3,
   "id": "backed-league",
   "metadata": {},
   "outputs": [],
   "source": [
    "# Initialize the minimum and maximum with the value of the function in the far left of the range (a).\n",
    "\n",
    "ymin = f(a)\n",
    "ymax = ymin\n",
    "# Check the value at each step.\n",
    "for i in range(NumSteps):\n",
    "    x = a + (b - a) * float(i) / NumSteps\n",
    "    y = f(x)\n",
    "    if y < ymin: \n",
    "        ymin = y\n",
    "    if y > ymax: ymax = y"
   ]
  },
  {
   "cell_type": "markdown",
   "id": "charged-texture",
   "metadata": {},
   "source": [
    "- For each step, the x value is obtained by increasing the left end of the interval (a) by a fraction of the total number of steps provided by the current value of i . \n",
    "- Once this is done, the function at that point is evaluated.\n",
    "- The two 'if' statements allow us to verify whether the current value of f is less than/greater than the value chosen so far as the minimum/maximum.\n",
    "- If so, to update these values. \n",
    "- With the necessary parameters set and calculated the Monte Carlo method can be applied."
   ]
  },
  {
   "cell_type": "code",
   "execution_count": 4,
   "id": "bearing-sweden",
   "metadata": {},
   "outputs": [
    {
     "name": "stdout",
     "output_type": "stream",
     "text": [
      "Numerical integration = 8.996787006398996\n"
     ]
    }
   ],
   "source": [
    "# Calculate the area of the rectangle.\n",
    "A = (b - a) * (ymax - ymin)\n",
    "# Set the numbers of random pairs we want to generate.\n",
    "N = 1000000\n",
    "# Initialize the M parameter, which represents the number of points that fall under the curve that represents f(x)\n",
    "M = 0\n",
    "# Calculate this value.\n",
    "for k in range(N):\n",
    "    # Generate the two random numbers.\n",
    "    x = a + (b - a) * random.random()\n",
    "    y = ymin + (ymax - ymin) * random.random()\n",
    "    # Both x and y fall within the rectangle of area A; that is, x ∈ [a, b] and y ∈ [0, maxy].\n",
    "    # Now, determine whether the following is true: 𝑦 ≤ 𝑓(𝑥), using an if statement.\n",
    "    if y <= f(x):\n",
    "        # If the condition is true, then the value of M is incremented by one unit.\n",
    "        M += 1\n",
    "        XIntegral.append(x)\n",
    "        YIntegral.append(y)\n",
    "    else:\n",
    "        XRectangle.append(x)\n",
    "        YRectangle.append(y)\n",
    "\n",
    "# After iterating N times, we are in a position to estimate the integral.\n",
    "NumericalIntegral = M / N * A\n",
    "print ('Numerical integration = ' + str(NumericalIntegral))"
   ]
  },
  {
   "cell_type": "markdown",
   "id": "dressed-collar",
   "metadata": {},
   "source": [
    "- The analytical solution for the definite intergral is 9.\n",
    "- So the percentage error is:"
   ]
  },
  {
   "cell_type": "code",
   "execution_count": 5,
   "id": "danish-approval",
   "metadata": {},
   "outputs": [
    {
     "name": "stdout",
     "output_type": "stream",
     "text": [
      "Percentage error of the Monte Carlo simulation is: \n",
      "0.0357 %\n"
     ]
    }
   ],
   "source": [
    "Percentage_Error = ((9 - NumericalIntegral)/9)*100\n",
    "print('Percentage error of the Monte Carlo simulation is: \\n{}'.format(np.round(Percentage_Error, 5)), '%')"
   ]
  },
  {
   "cell_type": "markdown",
   "id": "novel-jordan",
   "metadata": {},
   "source": [
    "<b>Summary</b>\n",
    "- And that is how you perform an integral using a Monte Carlo simulation."
   ]
  },
  {
   "cell_type": "code",
   "execution_count": null,
   "id": "light-hindu",
   "metadata": {},
   "outputs": [],
   "source": []
  }
 ],
 "metadata": {
  "kernelspec": {
   "display_name": "Python 3",
   "language": "python",
   "name": "python3"
  },
  "language_info": {
   "codemirror_mode": {
    "name": "ipython",
    "version": 3
   },
   "file_extension": ".py",
   "mimetype": "text/x-python",
   "name": "python",
   "nbconvert_exporter": "python",
   "pygments_lexer": "ipython3",
   "version": "3.8.5"
  }
 },
 "nbformat": 4,
 "nbformat_minor": 5
}
